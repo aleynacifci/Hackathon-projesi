{
  "nbformat": 4,
  "nbformat_minor": 0,
  "metadata": {
    "colab": {
      "provenance": [],
      "authorship_tag": "ABX9TyM/C0sXSiNVNhDTCn9L9LjY",
      "include_colab_link": true
    },
    "kernelspec": {
      "name": "python3",
      "display_name": "Python 3"
    },
    "language_info": {
      "name": "python"
    }
  },
  "cells": [
    {
      "cell_type": "markdown",
      "metadata": {
        "id": "view-in-github",
        "colab_type": "text"
      },
      "source": [
        "<a href=\"https://colab.research.google.com/github/aleynacifci/Hackathon-projesi/blob/main/Hackathon_projesi.ipynb\" target=\"_parent\"><img src=\"https://colab.research.google.com/assets/colab-badge.svg\" alt=\"Open In Colab\"/></a>"
      ]
    },
    {
      "cell_type": "code",
      "source": [
        "import xml.etree.cElementTree as ET\n",
        "\n",
        "def verileri_al(dosya_adi= \"ustveriler.xml\"):  #kullanıcıdan veri alma\n",
        "    başlık = input(\"Başlık Giriniz:\")\n",
        "    anahtar_kelimeler = input(\"Anahtar Kelimeler Giriniz:\")\n",
        "    ozet_bilgisi = input(\"Özet Bilgisi Giriniz:\")\n",
        "    olusturan_kurulus = input(\"Oluşturan Kuruluş Bilgisi Giriniz:\")\n",
        "    acik_lisans = input(\"Açık Lisans Bilgisi Giriniz:\")\n",
        "    dil = input(\"Dil Giriniz:\")\n",
        "    kaynak_url = input(\"Kaynak URL Giriniz:\")\n",
        "\n",
        "    # XML yapısını oluştu\n",
        "    root = ET.Element(\"kaynaklar\")\n",
        "    ET.SubElement(root, \"başlık\").text = başlık\n",
        "    ET.SubElement(root, \"anahtar_kelimeler\").text = anahtar_kelimeler\n",
        "    ET.SubElement(root, \"özet_bilgisi\").text = ozet_bilgisi\n",
        "    ET.SubElement(root, \"olusturan_kurulus\").text = olusturan_kurulus\n",
        "    ET.SubElement(root, \"acik_lisans\").text = acik_lisans\n",
        "    ET.SubElement(root, \"dil\").text = dil\n",
        "    ET.SubElement(root, \"kaynak_url\").text = kaynak_url\n",
        "\n",
        "\n",
        "    tree = ET.ElementTree(root)\n",
        "    with open(dosya_adi, \"wb\") as f:\n",
        "        tree.write(f, encoding=\"utf-8\", xml_declaration=True) #karakter Uyumluluğu\n",
        "\n",
        "    print(f\"Veriler '{dosya_adi}' dosyasına kaydedildi.\")\n",
        "\n",
        "# Fonksiyonu çağır\n",
        "verileri_al() #fonksiyonu çağırdık"
      ],
      "metadata": {
        "collapsed": true,
        "id": "a2ko9p0cdXq_"
      },
      "execution_count": null,
      "outputs": []
    }
  ]
}